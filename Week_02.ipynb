{
  "cells": [
    {
      "cell_type": "markdown",
      "metadata": {
        "id": "view-in-github",
        "colab_type": "text"
      },
      "source": [
        "<a href=\"https://colab.research.google.com/github/saud-mubashir/Week-02/blob/main/Week_02.ipynb\" target=\"_parent\"><img src=\"https://colab.research.google.com/assets/colab-badge.svg\" alt=\"Open In Colab\"/></a>"
      ]
    },
    {
      "cell_type": "markdown",
      "id": "37ac14f7-069b-4b2f-bcb2-577874371a95",
      "metadata": {
        "id": "37ac14f7-069b-4b2f-bcb2-577874371a95"
      },
      "source": [
        "### Q.1: Writer pandas series code to get following output without using dictionary:"
      ]
    },
    {
      "cell_type": "code",
      "execution_count": null,
      "id": "a9dca6bc-2dc3-4792-96ab-746658e184c0",
      "metadata": {
        "id": "a9dca6bc-2dc3-4792-96ab-746658e184c0"
      },
      "outputs": [],
      "source": [
        "import pandas as pd"
      ]
    },
    {
      "cell_type": "code",
      "execution_count": null,
      "id": "d899b89f-b475-48a6-904f-8334f0d7f6ff",
      "metadata": {
        "id": "d899b89f-b475-48a6-904f-8334f0d7f6ff",
        "outputId": "e881fbb8-03b1-4f4f-ab71-6dda0f3234a8"
      },
      "outputs": [
        {
          "data": {
            "text/plain": [
              "a    1\n",
              "x    4\n",
              "c    9\n",
              "2    7\n",
              "e    6\n",
              "dtype: int64"
            ]
          },
          "execution_count": 4,
          "metadata": {},
          "output_type": "execute_result"
        }
      ],
      "source": [
        "pd.Series([1,4,9,7,6],index= ['a','x','c',2,'e'])"
      ]
    },
    {
      "cell_type": "markdown",
      "id": "442c9760-0d42-4ea0-99bf-c348444e2164",
      "metadata": {
        "id": "442c9760-0d42-4ea0-99bf-c348444e2164"
      },
      "source": [
        "### Q.2: Writer pandas series code to get following output using dictionary:"
      ]
    },
    {
      "cell_type": "code",
      "execution_count": null,
      "id": "cf81569b-4d40-4e16-8886-28f08ca61e8b",
      "metadata": {
        "id": "cf81569b-4d40-4e16-8886-28f08ca61e8b",
        "outputId": "652e5c95-56fd-4e33-bbbe-9687836775d0"
      },
      "outputs": [
        {
          "data": {
            "text/plain": [
              "Bilal     42\n",
              "Ayesha    38\n",
              "Hadia     39\n",
              "dtype: int64"
            ]
          },
          "execution_count": 5,
          "metadata": {},
          "output_type": "execute_result"
        }
      ],
      "source": [
        "pd.Series({'Bilal':42,'Ayesha':38,'Hadia':39})"
      ]
    },
    {
      "cell_type": "code",
      "execution_count": null,
      "id": "7dbce24f-1a30-4738-b30b-7dce5735043a",
      "metadata": {
        "id": "7dbce24f-1a30-4738-b30b-7dce5735043a"
      },
      "outputs": [],
      "source": [
        "df = pd.DataFrame({'day':['1/1/2017','1/2/2017','1/3/2017','1/4/2017','1/5/2017','1/5/2017'],'temperature':[32,35,28,24,32,31]})"
      ]
    },
    {
      "cell_type": "code",
      "execution_count": null,
      "id": "e9757923-b946-4ae5-9f16-8c580a0da6ea",
      "metadata": {
        "id": "e9757923-b946-4ae5-9f16-8c580a0da6ea",
        "outputId": "678c5fc7-b2e5-40c8-dc2e-46f24ff913b0"
      },
      "outputs": [
        {
          "data": {
            "text/html": [
              "<div>\n",
              "<style scoped>\n",
              "    .dataframe tbody tr th:only-of-type {\n",
              "        vertical-align: middle;\n",
              "    }\n",
              "\n",
              "    .dataframe tbody tr th {\n",
              "        vertical-align: top;\n",
              "    }\n",
              "\n",
              "    .dataframe thead th {\n",
              "        text-align: right;\n",
              "    }\n",
              "</style>\n",
              "<table border=\"1\" class=\"dataframe\">\n",
              "  <thead>\n",
              "    <tr style=\"text-align: right;\">\n",
              "      <th></th>\n",
              "      <th>day</th>\n",
              "      <th>temperature</th>\n",
              "    </tr>\n",
              "  </thead>\n",
              "  <tbody>\n",
              "    <tr>\n",
              "      <th>0</th>\n",
              "      <td>1/1/2017</td>\n",
              "      <td>32</td>\n",
              "    </tr>\n",
              "    <tr>\n",
              "      <th>1</th>\n",
              "      <td>1/2/2017</td>\n",
              "      <td>35</td>\n",
              "    </tr>\n",
              "    <tr>\n",
              "      <th>2</th>\n",
              "      <td>1/3/2017</td>\n",
              "      <td>28</td>\n",
              "    </tr>\n",
              "    <tr>\n",
              "      <th>3</th>\n",
              "      <td>1/4/2017</td>\n",
              "      <td>24</td>\n",
              "    </tr>\n",
              "    <tr>\n",
              "      <th>4</th>\n",
              "      <td>1/5/2017</td>\n",
              "      <td>32</td>\n",
              "    </tr>\n",
              "    <tr>\n",
              "      <th>5</th>\n",
              "      <td>1/5/2017</td>\n",
              "      <td>31</td>\n",
              "    </tr>\n",
              "  </tbody>\n",
              "</table>\n",
              "</div>"
            ],
            "text/plain": [
              "        day  temperature\n",
              "0  1/1/2017           32\n",
              "1  1/2/2017           35\n",
              "2  1/3/2017           28\n",
              "3  1/4/2017           24\n",
              "4  1/5/2017           32\n",
              "5  1/5/2017           31"
            ]
          },
          "execution_count": 8,
          "metadata": {},
          "output_type": "execute_result"
        }
      ],
      "source": [
        "df"
      ]
    },
    {
      "cell_type": "code",
      "execution_count": null,
      "id": "7cb02b32-cb54-4e8d-ae82-e6f29d3423c2",
      "metadata": {
        "id": "7cb02b32-cb54-4e8d-ae82-e6f29d3423c2"
      },
      "outputs": [],
      "source": [
        "df['windspeed'] = [6,7,2,7,4,2]"
      ]
    },
    {
      "cell_type": "code",
      "execution_count": null,
      "id": "ebc91fdd-3b55-4af9-920c-6926b63a33a9",
      "metadata": {
        "id": "ebc91fdd-3b55-4af9-920c-6926b63a33a9"
      },
      "outputs": [],
      "source": [
        "df['event']=['Rain','Sunny','Snow','Snow','Rain','Sunny']"
      ]
    },
    {
      "cell_type": "code",
      "execution_count": null,
      "id": "59e648a6-5c04-4ad6-94c8-710d58444b61",
      "metadata": {
        "id": "59e648a6-5c04-4ad6-94c8-710d58444b61",
        "outputId": "ef1791ee-d79d-4b6a-a955-6950b420f2b9"
      },
      "outputs": [
        {
          "data": {
            "text/html": [
              "<div>\n",
              "<style scoped>\n",
              "    .dataframe tbody tr th:only-of-type {\n",
              "        vertical-align: middle;\n",
              "    }\n",
              "\n",
              "    .dataframe tbody tr th {\n",
              "        vertical-align: top;\n",
              "    }\n",
              "\n",
              "    .dataframe thead th {\n",
              "        text-align: right;\n",
              "    }\n",
              "</style>\n",
              "<table border=\"1\" class=\"dataframe\">\n",
              "  <thead>\n",
              "    <tr style=\"text-align: right;\">\n",
              "      <th></th>\n",
              "      <th>day</th>\n",
              "      <th>temperature</th>\n",
              "      <th>windspeed</th>\n",
              "      <th>event</th>\n",
              "    </tr>\n",
              "  </thead>\n",
              "  <tbody>\n",
              "    <tr>\n",
              "      <th>0</th>\n",
              "      <td>1/1/2017</td>\n",
              "      <td>32</td>\n",
              "      <td>6</td>\n",
              "      <td>Rain</td>\n",
              "    </tr>\n",
              "    <tr>\n",
              "      <th>1</th>\n",
              "      <td>1/2/2017</td>\n",
              "      <td>35</td>\n",
              "      <td>7</td>\n",
              "      <td>Sunny</td>\n",
              "    </tr>\n",
              "    <tr>\n",
              "      <th>2</th>\n",
              "      <td>1/3/2017</td>\n",
              "      <td>28</td>\n",
              "      <td>2</td>\n",
              "      <td>Snow</td>\n",
              "    </tr>\n",
              "    <tr>\n",
              "      <th>3</th>\n",
              "      <td>1/4/2017</td>\n",
              "      <td>24</td>\n",
              "      <td>7</td>\n",
              "      <td>Snow</td>\n",
              "    </tr>\n",
              "    <tr>\n",
              "      <th>4</th>\n",
              "      <td>1/5/2017</td>\n",
              "      <td>32</td>\n",
              "      <td>4</td>\n",
              "      <td>Rain</td>\n",
              "    </tr>\n",
              "  </tbody>\n",
              "</table>\n",
              "</div>"
            ],
            "text/plain": [
              "        day  temperature  windspeed  event\n",
              "0  1/1/2017           32          6   Rain\n",
              "1  1/2/2017           35          7  Sunny\n",
              "2  1/3/2017           28          2   Snow\n",
              "3  1/4/2017           24          7   Snow\n",
              "4  1/5/2017           32          4   Rain"
            ]
          },
          "execution_count": 11,
          "metadata": {},
          "output_type": "execute_result"
        }
      ],
      "source": [
        "df.head()"
      ]
    },
    {
      "cell_type": "code",
      "execution_count": null,
      "id": "d947ccc0-b345-487d-8f06-087aadd7e921",
      "metadata": {
        "id": "d947ccc0-b345-487d-8f06-087aadd7e921",
        "outputId": "5f156a65-d036-4656-ae49-dcda2bf894e6"
      },
      "outputs": [
        {
          "data": {
            "text/html": [
              "<div>\n",
              "<style scoped>\n",
              "    .dataframe tbody tr th:only-of-type {\n",
              "        vertical-align: middle;\n",
              "    }\n",
              "\n",
              "    .dataframe tbody tr th {\n",
              "        vertical-align: top;\n",
              "    }\n",
              "\n",
              "    .dataframe thead th {\n",
              "        text-align: right;\n",
              "    }\n",
              "</style>\n",
              "<table border=\"1\" class=\"dataframe\">\n",
              "  <thead>\n",
              "    <tr style=\"text-align: right;\">\n",
              "      <th></th>\n",
              "      <th>day</th>\n",
              "      <th>temperature</th>\n",
              "      <th>windspeed</th>\n",
              "      <th>event</th>\n",
              "    </tr>\n",
              "  </thead>\n",
              "  <tbody>\n",
              "    <tr>\n",
              "      <th>0</th>\n",
              "      <td>1/1/2017</td>\n",
              "      <td>32</td>\n",
              "      <td>6</td>\n",
              "      <td>Rain</td>\n",
              "    </tr>\n",
              "    <tr>\n",
              "      <th>1</th>\n",
              "      <td>1/2/2017</td>\n",
              "      <td>35</td>\n",
              "      <td>7</td>\n",
              "      <td>Sunny</td>\n",
              "    </tr>\n",
              "    <tr>\n",
              "      <th>2</th>\n",
              "      <td>1/3/2017</td>\n",
              "      <td>28</td>\n",
              "      <td>2</td>\n",
              "      <td>Snow</td>\n",
              "    </tr>\n",
              "    <tr>\n",
              "      <th>3</th>\n",
              "      <td>1/4/2017</td>\n",
              "      <td>24</td>\n",
              "      <td>7</td>\n",
              "      <td>Snow</td>\n",
              "    </tr>\n",
              "    <tr>\n",
              "      <th>4</th>\n",
              "      <td>1/5/2017</td>\n",
              "      <td>32</td>\n",
              "      <td>4</td>\n",
              "      <td>Rain</td>\n",
              "    </tr>\n",
              "    <tr>\n",
              "      <th>5</th>\n",
              "      <td>1/5/2017</td>\n",
              "      <td>31</td>\n",
              "      <td>2</td>\n",
              "      <td>Sunny</td>\n",
              "    </tr>\n",
              "  </tbody>\n",
              "</table>\n",
              "</div>"
            ],
            "text/plain": [
              "        day  temperature  windspeed  event\n",
              "0  1/1/2017           32          6   Rain\n",
              "1  1/2/2017           35          7  Sunny\n",
              "2  1/3/2017           28          2   Snow\n",
              "3  1/4/2017           24          7   Snow\n",
              "4  1/5/2017           32          4   Rain\n",
              "5  1/5/2017           31          2  Sunny"
            ]
          },
          "execution_count": 12,
          "metadata": {},
          "output_type": "execute_result"
        }
      ],
      "source": [
        "df"
      ]
    },
    {
      "cell_type": "code",
      "execution_count": null,
      "id": "0216295e-6e1a-477a-a396-158576fc63db",
      "metadata": {
        "id": "0216295e-6e1a-477a-a396-158576fc63db"
      },
      "outputs": [],
      "source": [
        "df['index']= ['a','b','c','d','e','f']"
      ]
    },
    {
      "cell_type": "code",
      "execution_count": null,
      "id": "8b48f70d-35b2-42d7-bc12-cc588b67e4ad",
      "metadata": {
        "id": "8b48f70d-35b2-42d7-bc12-cc588b67e4ad"
      },
      "outputs": [],
      "source": [
        "df.set_index('index',inplace=True)"
      ]
    },
    {
      "cell_type": "code",
      "execution_count": null,
      "id": "38893812-10d7-4fc1-b56c-3946d2175690",
      "metadata": {
        "id": "38893812-10d7-4fc1-b56c-3946d2175690",
        "outputId": "75fb0846-0099-4bf4-bdbb-f27692c1ad34"
      },
      "outputs": [
        {
          "data": {
            "text/html": [
              "<div>\n",
              "<style scoped>\n",
              "    .dataframe tbody tr th:only-of-type {\n",
              "        vertical-align: middle;\n",
              "    }\n",
              "\n",
              "    .dataframe tbody tr th {\n",
              "        vertical-align: top;\n",
              "    }\n",
              "\n",
              "    .dataframe thead th {\n",
              "        text-align: right;\n",
              "    }\n",
              "</style>\n",
              "<table border=\"1\" class=\"dataframe\">\n",
              "  <thead>\n",
              "    <tr style=\"text-align: right;\">\n",
              "      <th></th>\n",
              "      <th>day</th>\n",
              "      <th>temperature</th>\n",
              "      <th>windspeed</th>\n",
              "      <th>event</th>\n",
              "    </tr>\n",
              "    <tr>\n",
              "      <th>index</th>\n",
              "      <th></th>\n",
              "      <th></th>\n",
              "      <th></th>\n",
              "      <th></th>\n",
              "    </tr>\n",
              "  </thead>\n",
              "  <tbody>\n",
              "    <tr>\n",
              "      <th>a</th>\n",
              "      <td>1/1/2017</td>\n",
              "      <td>32</td>\n",
              "      <td>6</td>\n",
              "      <td>Rain</td>\n",
              "    </tr>\n",
              "    <tr>\n",
              "      <th>b</th>\n",
              "      <td>1/2/2017</td>\n",
              "      <td>35</td>\n",
              "      <td>7</td>\n",
              "      <td>Sunny</td>\n",
              "    </tr>\n",
              "    <tr>\n",
              "      <th>c</th>\n",
              "      <td>1/3/2017</td>\n",
              "      <td>28</td>\n",
              "      <td>2</td>\n",
              "      <td>Snow</td>\n",
              "    </tr>\n",
              "    <tr>\n",
              "      <th>d</th>\n",
              "      <td>1/4/2017</td>\n",
              "      <td>24</td>\n",
              "      <td>7</td>\n",
              "      <td>Snow</td>\n",
              "    </tr>\n",
              "    <tr>\n",
              "      <th>e</th>\n",
              "      <td>1/5/2017</td>\n",
              "      <td>32</td>\n",
              "      <td>4</td>\n",
              "      <td>Rain</td>\n",
              "    </tr>\n",
              "    <tr>\n",
              "      <th>f</th>\n",
              "      <td>1/5/2017</td>\n",
              "      <td>31</td>\n",
              "      <td>2</td>\n",
              "      <td>Sunny</td>\n",
              "    </tr>\n",
              "  </tbody>\n",
              "</table>\n",
              "</div>"
            ],
            "text/plain": [
              "            day  temperature  windspeed  event\n",
              "index                                         \n",
              "a      1/1/2017           32          6   Rain\n",
              "b      1/2/2017           35          7  Sunny\n",
              "c      1/3/2017           28          2   Snow\n",
              "d      1/4/2017           24          7   Snow\n",
              "e      1/5/2017           32          4   Rain\n",
              "f      1/5/2017           31          2  Sunny"
            ]
          },
          "execution_count": 15,
          "metadata": {},
          "output_type": "execute_result"
        }
      ],
      "source": [
        "df"
      ]
    },
    {
      "cell_type": "code",
      "execution_count": null,
      "id": "7fac9a90-ac5d-4f06-b40d-b82e775dbebd",
      "metadata": {
        "id": "7fac9a90-ac5d-4f06-b40d-b82e775dbebd",
        "outputId": "64b8ec0a-8ab3-4de6-bb5c-c428767f3be6"
      },
      "outputs": [
        {
          "data": {
            "text/plain": [
              "count     6.000000\n",
              "mean     30.333333\n",
              "std       3.829708\n",
              "min      24.000000\n",
              "25%      28.750000\n",
              "50%      31.500000\n",
              "75%      32.000000\n",
              "max      35.000000\n",
              "Name: temperature, dtype: float64"
            ]
          },
          "execution_count": 16,
          "metadata": {},
          "output_type": "execute_result"
        }
      ],
      "source": [
        "df['temperature'].describe()"
      ]
    },
    {
      "cell_type": "markdown",
      "id": "5d6b5d12-ca93-43dc-92e6-62c22d9fd321",
      "metadata": {
        "id": "5d6b5d12-ca93-43dc-92e6-62c22d9fd321"
      },
      "source": [
        "### Q.6: Import CSV ‘people.csv’ in the given folder. Keep in mind the following instructions:\n",
        "You’re required to import only specific columns [\"First Name\", \"Sex\", \"Email\", “Phone”, “Job Title”]\n",
        "Set the following columns [\"Sex\", \"Job Title\"] as index columns\n",
        "Skip following rows [1,5]\n",
        "Export the CSV as “NewPeople.csv”"
      ]
    },
    {
      "cell_type": "code",
      "execution_count": null,
      "id": "9d89240c-eb2f-4b05-abcb-b9a1fc6b7b1b",
      "metadata": {
        "id": "9d89240c-eb2f-4b05-abcb-b9a1fc6b7b1b"
      },
      "outputs": [],
      "source": [
        "data = pd.read_csv('people.csv',usecols= [\"First Name\", \"Sex\", \"Email\", \"Phone\", \"Job Title\"])"
      ]
    },
    {
      "cell_type": "code",
      "execution_count": null,
      "id": "2ca4a5ca-cc15-4f1d-ab7a-6b0ef1ba3aac",
      "metadata": {
        "id": "2ca4a5ca-cc15-4f1d-ab7a-6b0ef1ba3aac",
        "outputId": "9350fc46-6db5-4a5a-fe93-5d6109b13dab"
      },
      "outputs": [
        {
          "data": {
            "text/html": [
              "<div>\n",
              "<style scoped>\n",
              "    .dataframe tbody tr th:only-of-type {\n",
              "        vertical-align: middle;\n",
              "    }\n",
              "\n",
              "    .dataframe tbody tr th {\n",
              "        vertical-align: top;\n",
              "    }\n",
              "\n",
              "    .dataframe thead th {\n",
              "        text-align: right;\n",
              "    }\n",
              "</style>\n",
              "<table border=\"1\" class=\"dataframe\">\n",
              "  <thead>\n",
              "    <tr style=\"text-align: right;\">\n",
              "      <th></th>\n",
              "      <th>First Name</th>\n",
              "      <th>Sex</th>\n",
              "      <th>Email</th>\n",
              "      <th>Phone</th>\n",
              "      <th>Job Title</th>\n",
              "    </tr>\n",
              "  </thead>\n",
              "  <tbody>\n",
              "    <tr>\n",
              "      <th>0</th>\n",
              "      <td>Shelby</td>\n",
              "      <td>Male</td>\n",
              "      <td>elijah57@example.net</td>\n",
              "      <td>001-084-906-7849x73518</td>\n",
              "      <td>Games developer</td>\n",
              "    </tr>\n",
              "    <tr>\n",
              "      <th>1</th>\n",
              "      <td>Phillip</td>\n",
              "      <td>Female</td>\n",
              "      <td>bethany14@example.com</td>\n",
              "      <td>214.112.6044x4913</td>\n",
              "      <td>Phytotherapist</td>\n",
              "    </tr>\n",
              "    <tr>\n",
              "      <th>2</th>\n",
              "      <td>Kristine</td>\n",
              "      <td>Male</td>\n",
              "      <td>bthompson@example.com</td>\n",
              "      <td>277.609.7938</td>\n",
              "      <td>Homeopath</td>\n",
              "    </tr>\n",
              "    <tr>\n",
              "      <th>3</th>\n",
              "      <td>Yesenia</td>\n",
              "      <td>Male</td>\n",
              "      <td>kaitlinkaiser@example.com</td>\n",
              "      <td>584.094.6111</td>\n",
              "      <td>Market researcher</td>\n",
              "    </tr>\n",
              "    <tr>\n",
              "      <th>4</th>\n",
              "      <td>Lori</td>\n",
              "      <td>Male</td>\n",
              "      <td>buchananmanuel@example.net</td>\n",
              "      <td>689-207-3558x7233</td>\n",
              "      <td>Veterinary surgeon</td>\n",
              "    </tr>\n",
              "    <tr>\n",
              "      <th>...</th>\n",
              "      <td>...</td>\n",
              "      <td>...</td>\n",
              "      <td>...</td>\n",
              "      <td>...</td>\n",
              "      <td>...</td>\n",
              "    </tr>\n",
              "    <tr>\n",
              "      <th>95</th>\n",
              "      <td>Dennis</td>\n",
              "      <td>Female</td>\n",
              "      <td>bmartin@example.org</td>\n",
              "      <td>001-095-524-2112x257</td>\n",
              "      <td>Software engineer</td>\n",
              "    </tr>\n",
              "    <tr>\n",
              "      <th>96</th>\n",
              "      <td>Steve</td>\n",
              "      <td>Female</td>\n",
              "      <td>latasha46@example.net</td>\n",
              "      <td>001-865-478-5157</td>\n",
              "      <td>Barrister</td>\n",
              "    </tr>\n",
              "    <tr>\n",
              "      <th>97</th>\n",
              "      <td>Wesley</td>\n",
              "      <td>Male</td>\n",
              "      <td>regina11@example.org</td>\n",
              "      <td>995-542-3004x76800</td>\n",
              "      <td>Police officer</td>\n",
              "    </tr>\n",
              "    <tr>\n",
              "      <th>98</th>\n",
              "      <td>Summer</td>\n",
              "      <td>Female</td>\n",
              "      <td>alexiscantrell@example.org</td>\n",
              "      <td>001-273-685-6932x092</td>\n",
              "      <td>Broadcast journalist</td>\n",
              "    </tr>\n",
              "    <tr>\n",
              "      <th>99</th>\n",
              "      <td>Mariah</td>\n",
              "      <td>Male</td>\n",
              "      <td>pcopeland@example.org</td>\n",
              "      <td>(341)594-6554x44657</td>\n",
              "      <td>IT sales professional</td>\n",
              "    </tr>\n",
              "  </tbody>\n",
              "</table>\n",
              "<p>100 rows × 5 columns</p>\n",
              "</div>"
            ],
            "text/plain": [
              "   First Name     Sex                       Email                   Phone  \\\n",
              "0      Shelby    Male        elijah57@example.net  001-084-906-7849x73518   \n",
              "1     Phillip  Female       bethany14@example.com       214.112.6044x4913   \n",
              "2    Kristine    Male       bthompson@example.com            277.609.7938   \n",
              "3     Yesenia    Male   kaitlinkaiser@example.com            584.094.6111   \n",
              "4        Lori    Male  buchananmanuel@example.net       689-207-3558x7233   \n",
              "..        ...     ...                         ...                     ...   \n",
              "95     Dennis  Female         bmartin@example.org    001-095-524-2112x257   \n",
              "96      Steve  Female       latasha46@example.net        001-865-478-5157   \n",
              "97     Wesley    Male        regina11@example.org      995-542-3004x76800   \n",
              "98     Summer  Female  alexiscantrell@example.org    001-273-685-6932x092   \n",
              "99     Mariah    Male       pcopeland@example.org     (341)594-6554x44657   \n",
              "\n",
              "                Job Title  \n",
              "0         Games developer  \n",
              "1          Phytotherapist  \n",
              "2               Homeopath  \n",
              "3       Market researcher  \n",
              "4      Veterinary surgeon  \n",
              "..                    ...  \n",
              "95      Software engineer  \n",
              "96              Barrister  \n",
              "97         Police officer  \n",
              "98   Broadcast journalist  \n",
              "99  IT sales professional  \n",
              "\n",
              "[100 rows x 5 columns]"
            ]
          },
          "execution_count": 21,
          "metadata": {},
          "output_type": "execute_result"
        }
      ],
      "source": [
        "data"
      ]
    },
    {
      "cell_type": "code",
      "execution_count": null,
      "id": "2985db52-b8fd-4fc2-91ff-141f7801aab5",
      "metadata": {
        "id": "2985db52-b8fd-4fc2-91ff-141f7801aab5"
      },
      "outputs": [],
      "source": [
        "data.set_index([\"Sex\", \"Job Title\"],inplace=True)"
      ]
    },
    {
      "cell_type": "code",
      "execution_count": null,
      "id": "cba68f4a-ad91-4701-a34b-a98824b2d299",
      "metadata": {
        "id": "cba68f4a-ad91-4701-a34b-a98824b2d299",
        "outputId": "3615c9f5-3590-45ea-d6f6-01d58095e540"
      },
      "outputs": [
        {
          "data": {
            "text/html": [
              "<div>\n",
              "<style scoped>\n",
              "    .dataframe tbody tr th:only-of-type {\n",
              "        vertical-align: middle;\n",
              "    }\n",
              "\n",
              "    .dataframe tbody tr th {\n",
              "        vertical-align: top;\n",
              "    }\n",
              "\n",
              "    .dataframe thead th {\n",
              "        text-align: right;\n",
              "    }\n",
              "</style>\n",
              "<table border=\"1\" class=\"dataframe\">\n",
              "  <thead>\n",
              "    <tr style=\"text-align: right;\">\n",
              "      <th></th>\n",
              "      <th></th>\n",
              "      <th>First Name</th>\n",
              "      <th>Email</th>\n",
              "      <th>Phone</th>\n",
              "    </tr>\n",
              "    <tr>\n",
              "      <th>Sex</th>\n",
              "      <th>Job Title</th>\n",
              "      <th></th>\n",
              "      <th></th>\n",
              "      <th></th>\n",
              "    </tr>\n",
              "  </thead>\n",
              "  <tbody>\n",
              "    <tr>\n",
              "      <th>Male</th>\n",
              "      <th>Games developer</th>\n",
              "      <td>Shelby</td>\n",
              "      <td>elijah57@example.net</td>\n",
              "      <td>001-084-906-7849x73518</td>\n",
              "    </tr>\n",
              "    <tr>\n",
              "      <th>Female</th>\n",
              "      <th>Phytotherapist</th>\n",
              "      <td>Phillip</td>\n",
              "      <td>bethany14@example.com</td>\n",
              "      <td>214.112.6044x4913</td>\n",
              "    </tr>\n",
              "    <tr>\n",
              "      <th rowspan=\"3\" valign=\"top\">Male</th>\n",
              "      <th>Homeopath</th>\n",
              "      <td>Kristine</td>\n",
              "      <td>bthompson@example.com</td>\n",
              "      <td>277.609.7938</td>\n",
              "    </tr>\n",
              "    <tr>\n",
              "      <th>Market researcher</th>\n",
              "      <td>Yesenia</td>\n",
              "      <td>kaitlinkaiser@example.com</td>\n",
              "      <td>584.094.6111</td>\n",
              "    </tr>\n",
              "    <tr>\n",
              "      <th>Veterinary surgeon</th>\n",
              "      <td>Lori</td>\n",
              "      <td>buchananmanuel@example.net</td>\n",
              "      <td>689-207-3558x7233</td>\n",
              "    </tr>\n",
              "  </tbody>\n",
              "</table>\n",
              "</div>"
            ],
            "text/plain": [
              "                          First Name                       Email  \\\n",
              "Sex    Job Title                                                   \n",
              "Male   Games developer        Shelby        elijah57@example.net   \n",
              "Female Phytotherapist        Phillip       bethany14@example.com   \n",
              "Male   Homeopath            Kristine       bthompson@example.com   \n",
              "       Market researcher     Yesenia   kaitlinkaiser@example.com   \n",
              "       Veterinary surgeon       Lori  buchananmanuel@example.net   \n",
              "\n",
              "                                            Phone  \n",
              "Sex    Job Title                                   \n",
              "Male   Games developer     001-084-906-7849x73518  \n",
              "Female Phytotherapist           214.112.6044x4913  \n",
              "Male   Homeopath                     277.609.7938  \n",
              "       Market researcher             584.094.6111  \n",
              "       Veterinary surgeon       689-207-3558x7233  "
            ]
          },
          "execution_count": 23,
          "metadata": {},
          "output_type": "execute_result"
        }
      ],
      "source": [
        "data.head()"
      ]
    },
    {
      "cell_type": "code",
      "execution_count": null,
      "id": "00244596-c949-4721-a570-23c5eafbbb16",
      "metadata": {
        "id": "00244596-c949-4721-a570-23c5eafbbb16",
        "outputId": "ef21b619-f92b-4fe2-e737-1b06b73604e7"
      },
      "outputs": [
        {
          "data": {
            "text/html": [
              "<div>\n",
              "<style scoped>\n",
              "    .dataframe tbody tr th:only-of-type {\n",
              "        vertical-align: middle;\n",
              "    }\n",
              "\n",
              "    .dataframe tbody tr th {\n",
              "        vertical-align: top;\n",
              "    }\n",
              "\n",
              "    .dataframe thead th {\n",
              "        text-align: right;\n",
              "    }\n",
              "</style>\n",
              "<table border=\"1\" class=\"dataframe\">\n",
              "  <thead>\n",
              "    <tr style=\"text-align: right;\">\n",
              "      <th></th>\n",
              "      <th></th>\n",
              "      <th>First Name</th>\n",
              "      <th>Email</th>\n",
              "      <th>Phone</th>\n",
              "    </tr>\n",
              "    <tr>\n",
              "      <th>Sex</th>\n",
              "      <th>Job Title</th>\n",
              "      <th></th>\n",
              "      <th></th>\n",
              "      <th></th>\n",
              "    </tr>\n",
              "  </thead>\n",
              "  <tbody>\n",
              "    <tr>\n",
              "      <th>Male</th>\n",
              "      <th>Games developer</th>\n",
              "      <td>Shelby</td>\n",
              "      <td>elijah57@example.net</td>\n",
              "      <td>001-084-906-7849x73518</td>\n",
              "    </tr>\n",
              "    <tr>\n",
              "      <th>Female</th>\n",
              "      <th>Phytotherapist</th>\n",
              "      <td>Phillip</td>\n",
              "      <td>bethany14@example.com</td>\n",
              "      <td>214.112.6044x4913</td>\n",
              "    </tr>\n",
              "    <tr>\n",
              "      <th rowspan=\"3\" valign=\"top\">Male</th>\n",
              "      <th>Homeopath</th>\n",
              "      <td>Kristine</td>\n",
              "      <td>bthompson@example.com</td>\n",
              "      <td>277.609.7938</td>\n",
              "    </tr>\n",
              "    <tr>\n",
              "      <th>Market researcher</th>\n",
              "      <td>Yesenia</td>\n",
              "      <td>kaitlinkaiser@example.com</td>\n",
              "      <td>584.094.6111</td>\n",
              "    </tr>\n",
              "    <tr>\n",
              "      <th>Veterinary surgeon</th>\n",
              "      <td>Lori</td>\n",
              "      <td>buchananmanuel@example.net</td>\n",
              "      <td>689-207-3558x7233</td>\n",
              "    </tr>\n",
              "    <tr>\n",
              "      <th>...</th>\n",
              "      <th>...</th>\n",
              "      <td>...</td>\n",
              "      <td>...</td>\n",
              "      <td>...</td>\n",
              "    </tr>\n",
              "    <tr>\n",
              "      <th rowspan=\"2\" valign=\"top\">Female</th>\n",
              "      <th>Software engineer</th>\n",
              "      <td>Dennis</td>\n",
              "      <td>bmartin@example.org</td>\n",
              "      <td>001-095-524-2112x257</td>\n",
              "    </tr>\n",
              "    <tr>\n",
              "      <th>Barrister</th>\n",
              "      <td>Steve</td>\n",
              "      <td>latasha46@example.net</td>\n",
              "      <td>001-865-478-5157</td>\n",
              "    </tr>\n",
              "    <tr>\n",
              "      <th>Male</th>\n",
              "      <th>Police officer</th>\n",
              "      <td>Wesley</td>\n",
              "      <td>regina11@example.org</td>\n",
              "      <td>995-542-3004x76800</td>\n",
              "    </tr>\n",
              "    <tr>\n",
              "      <th>Female</th>\n",
              "      <th>Broadcast journalist</th>\n",
              "      <td>Summer</td>\n",
              "      <td>alexiscantrell@example.org</td>\n",
              "      <td>001-273-685-6932x092</td>\n",
              "    </tr>\n",
              "    <tr>\n",
              "      <th>Male</th>\n",
              "      <th>IT sales professional</th>\n",
              "      <td>Mariah</td>\n",
              "      <td>pcopeland@example.org</td>\n",
              "      <td>(341)594-6554x44657</td>\n",
              "    </tr>\n",
              "  </tbody>\n",
              "</table>\n",
              "<p>100 rows × 3 columns</p>\n",
              "</div>"
            ],
            "text/plain": [
              "                             First Name                       Email  \\\n",
              "Sex    Job Title                                                      \n",
              "Male   Games developer           Shelby        elijah57@example.net   \n",
              "Female Phytotherapist           Phillip       bethany14@example.com   \n",
              "Male   Homeopath               Kristine       bthompson@example.com   \n",
              "       Market researcher        Yesenia   kaitlinkaiser@example.com   \n",
              "       Veterinary surgeon          Lori  buchananmanuel@example.net   \n",
              "...                                 ...                         ...   \n",
              "Female Software engineer         Dennis         bmartin@example.org   \n",
              "       Barrister                  Steve       latasha46@example.net   \n",
              "Male   Police officer            Wesley        regina11@example.org   \n",
              "Female Broadcast journalist      Summer  alexiscantrell@example.org   \n",
              "Male   IT sales professional     Mariah       pcopeland@example.org   \n",
              "\n",
              "                                               Phone  \n",
              "Sex    Job Title                                      \n",
              "Male   Games developer        001-084-906-7849x73518  \n",
              "Female Phytotherapist              214.112.6044x4913  \n",
              "Male   Homeopath                        277.609.7938  \n",
              "       Market researcher                584.094.6111  \n",
              "       Veterinary surgeon          689-207-3558x7233  \n",
              "...                                              ...  \n",
              "Female Software engineer        001-095-524-2112x257  \n",
              "       Barrister                    001-865-478-5157  \n",
              "Male   Police officer             995-542-3004x76800  \n",
              "Female Broadcast journalist     001-273-685-6932x092  \n",
              "Male   IT sales professional     (341)594-6554x44657  \n",
              "\n",
              "[100 rows x 3 columns]"
            ]
          },
          "execution_count": 24,
          "metadata": {},
          "output_type": "execute_result"
        }
      ],
      "source": [
        "data"
      ]
    },
    {
      "cell_type": "markdown",
      "id": "74839085-d781-4b7c-9b35-8f594d435c5e",
      "metadata": {
        "id": "74839085-d781-4b7c-9b35-8f594d435c5e"
      },
      "source": [
        "#### Skip following rows [1,5]"
      ]
    },
    {
      "cell_type": "code",
      "execution_count": null,
      "id": "7fbf9a66-e656-48ac-842c-a27c3a6e572a",
      "metadata": {
        "id": "7fbf9a66-e656-48ac-842c-a27c3a6e572a",
        "outputId": "6f323fcd-09bf-4cc7-9cca-e7ec748fa546"
      },
      "outputs": [
        {
          "data": {
            "text/html": [
              "<div>\n",
              "<style scoped>\n",
              "    .dataframe tbody tr th:only-of-type {\n",
              "        vertical-align: middle;\n",
              "    }\n",
              "\n",
              "    .dataframe tbody tr th {\n",
              "        vertical-align: top;\n",
              "    }\n",
              "\n",
              "    .dataframe thead th {\n",
              "        text-align: right;\n",
              "    }\n",
              "</style>\n",
              "<table border=\"1\" class=\"dataframe\">\n",
              "  <thead>\n",
              "    <tr style=\"text-align: right;\">\n",
              "      <th></th>\n",
              "      <th></th>\n",
              "      <th>First Name</th>\n",
              "      <th>Email</th>\n",
              "      <th>Phone</th>\n",
              "    </tr>\n",
              "    <tr>\n",
              "      <th>Sex</th>\n",
              "      <th>Job Title</th>\n",
              "      <th></th>\n",
              "      <th></th>\n",
              "      <th></th>\n",
              "    </tr>\n",
              "  </thead>\n",
              "  <tbody>\n",
              "    <tr>\n",
              "      <th>Female</th>\n",
              "      <th>Phytotherapist</th>\n",
              "      <td>Phillip</td>\n",
              "      <td>bethany14@example.com</td>\n",
              "      <td>214.112.6044x4913</td>\n",
              "    </tr>\n",
              "    <tr>\n",
              "      <th rowspan=\"3\" valign=\"top\">Male</th>\n",
              "      <th>Homeopath</th>\n",
              "      <td>Kristine</td>\n",
              "      <td>bthompson@example.com</td>\n",
              "      <td>277.609.7938</td>\n",
              "    </tr>\n",
              "    <tr>\n",
              "      <th>Market researcher</th>\n",
              "      <td>Yesenia</td>\n",
              "      <td>kaitlinkaiser@example.com</td>\n",
              "      <td>584.094.6111</td>\n",
              "    </tr>\n",
              "    <tr>\n",
              "      <th>Veterinary surgeon</th>\n",
              "      <td>Lori</td>\n",
              "      <td>buchananmanuel@example.net</td>\n",
              "      <td>689-207-3558x7233</td>\n",
              "    </tr>\n",
              "  </tbody>\n",
              "</table>\n",
              "</div>"
            ],
            "text/plain": [
              "                          First Name                       Email  \\\n",
              "Sex    Job Title                                                   \n",
              "Female Phytotherapist        Phillip       bethany14@example.com   \n",
              "Male   Homeopath            Kristine       bthompson@example.com   \n",
              "       Market researcher     Yesenia   kaitlinkaiser@example.com   \n",
              "       Veterinary surgeon       Lori  buchananmanuel@example.net   \n",
              "\n",
              "                                       Phone  \n",
              "Sex    Job Title                              \n",
              "Female Phytotherapist      214.112.6044x4913  \n",
              "Male   Homeopath                277.609.7938  \n",
              "       Market researcher        584.094.6111  \n",
              "       Veterinary surgeon  689-207-3558x7233  "
            ]
          },
          "execution_count": 45,
          "metadata": {},
          "output_type": "execute_result"
        }
      ],
      "source": [
        "data.iloc[1:5]"
      ]
    },
    {
      "cell_type": "code",
      "execution_count": null,
      "id": "37df1391-f75d-4c5a-9617-183df4f88fa9",
      "metadata": {
        "id": "37df1391-f75d-4c5a-9617-183df4f88fa9"
      },
      "outputs": [],
      "source": [
        "data.drop(index=data.index[1:5],axis=0,inplace=True)"
      ]
    },
    {
      "cell_type": "code",
      "execution_count": null,
      "id": "87338cf9-d33b-42e8-b139-ccce7b65e02c",
      "metadata": {
        "id": "87338cf9-d33b-42e8-b139-ccce7b65e02c",
        "outputId": "9af517e1-a81c-434d-8531-daff90abf12b"
      },
      "outputs": [
        {
          "data": {
            "text/html": [
              "<div>\n",
              "<style scoped>\n",
              "    .dataframe tbody tr th:only-of-type {\n",
              "        vertical-align: middle;\n",
              "    }\n",
              "\n",
              "    .dataframe tbody tr th {\n",
              "        vertical-align: top;\n",
              "    }\n",
              "\n",
              "    .dataframe thead th {\n",
              "        text-align: right;\n",
              "    }\n",
              "</style>\n",
              "<table border=\"1\" class=\"dataframe\">\n",
              "  <thead>\n",
              "    <tr style=\"text-align: right;\">\n",
              "      <th></th>\n",
              "      <th></th>\n",
              "      <th>First Name</th>\n",
              "      <th>Email</th>\n",
              "      <th>Phone</th>\n",
              "    </tr>\n",
              "    <tr>\n",
              "      <th>Sex</th>\n",
              "      <th>Job Title</th>\n",
              "      <th></th>\n",
              "      <th></th>\n",
              "      <th></th>\n",
              "    </tr>\n",
              "  </thead>\n",
              "  <tbody>\n",
              "    <tr>\n",
              "      <th rowspan=\"2\" valign=\"top\">Male</th>\n",
              "      <th>Games developer</th>\n",
              "      <td>Shelby</td>\n",
              "      <td>elijah57@example.net</td>\n",
              "      <td>001-084-906-7849x73518</td>\n",
              "    </tr>\n",
              "    <tr>\n",
              "      <th>Waste management officer</th>\n",
              "      <td>Erin</td>\n",
              "      <td>tconner@example.org</td>\n",
              "      <td>001-171-649-9856x5553</td>\n",
              "    </tr>\n",
              "    <tr>\n",
              "      <th>Female</th>\n",
              "      <th>Intelligence analyst</th>\n",
              "      <td>Katherine</td>\n",
              "      <td>conniecowan@example.com</td>\n",
              "      <td>+1-773-151-6685x49162</td>\n",
              "    </tr>\n",
              "    <tr>\n",
              "      <th rowspan=\"2\" valign=\"top\">Male</th>\n",
              "      <th>Hydrogeologist</th>\n",
              "      <td>Ricardo</td>\n",
              "      <td>wyattbishop@example.com</td>\n",
              "      <td>001-447-699-7998x88612</td>\n",
              "    </tr>\n",
              "    <tr>\n",
              "      <th>Lawyer</th>\n",
              "      <td>Dave</td>\n",
              "      <td>nmccann@example.net</td>\n",
              "      <td>603-428-2429x27392</td>\n",
              "    </tr>\n",
              "    <tr>\n",
              "      <th>...</th>\n",
              "      <th>...</th>\n",
              "      <td>...</td>\n",
              "      <td>...</td>\n",
              "      <td>...</td>\n",
              "    </tr>\n",
              "    <tr>\n",
              "      <th rowspan=\"2\" valign=\"top\">Female</th>\n",
              "      <th>Software engineer</th>\n",
              "      <td>Dennis</td>\n",
              "      <td>bmartin@example.org</td>\n",
              "      <td>001-095-524-2112x257</td>\n",
              "    </tr>\n",
              "    <tr>\n",
              "      <th>Barrister</th>\n",
              "      <td>Steve</td>\n",
              "      <td>latasha46@example.net</td>\n",
              "      <td>001-865-478-5157</td>\n",
              "    </tr>\n",
              "    <tr>\n",
              "      <th>Male</th>\n",
              "      <th>Police officer</th>\n",
              "      <td>Wesley</td>\n",
              "      <td>regina11@example.org</td>\n",
              "      <td>995-542-3004x76800</td>\n",
              "    </tr>\n",
              "    <tr>\n",
              "      <th>Female</th>\n",
              "      <th>Broadcast journalist</th>\n",
              "      <td>Summer</td>\n",
              "      <td>alexiscantrell@example.org</td>\n",
              "      <td>001-273-685-6932x092</td>\n",
              "    </tr>\n",
              "    <tr>\n",
              "      <th>Male</th>\n",
              "      <th>IT sales professional</th>\n",
              "      <td>Mariah</td>\n",
              "      <td>pcopeland@example.org</td>\n",
              "      <td>(341)594-6554x44657</td>\n",
              "    </tr>\n",
              "  </tbody>\n",
              "</table>\n",
              "<p>96 rows × 3 columns</p>\n",
              "</div>"
            ],
            "text/plain": [
              "                                First Name                       Email  \\\n",
              "Sex    Job Title                                                         \n",
              "Male   Games developer              Shelby        elijah57@example.net   \n",
              "       Waste management officer       Erin         tconner@example.org   \n",
              "Female Intelligence analyst      Katherine     conniecowan@example.com   \n",
              "Male   Hydrogeologist              Ricardo     wyattbishop@example.com   \n",
              "       Lawyer                         Dave         nmccann@example.net   \n",
              "...                                    ...                         ...   \n",
              "Female Software engineer            Dennis         bmartin@example.org   \n",
              "       Barrister                     Steve       latasha46@example.net   \n",
              "Male   Police officer               Wesley        regina11@example.org   \n",
              "Female Broadcast journalist         Summer  alexiscantrell@example.org   \n",
              "Male   IT sales professional        Mariah       pcopeland@example.org   \n",
              "\n",
              "                                                  Phone  \n",
              "Sex    Job Title                                         \n",
              "Male   Games developer           001-084-906-7849x73518  \n",
              "       Waste management officer   001-171-649-9856x5553  \n",
              "Female Intelligence analyst       +1-773-151-6685x49162  \n",
              "Male   Hydrogeologist            001-447-699-7998x88612  \n",
              "       Lawyer                        603-428-2429x27392  \n",
              "...                                                 ...  \n",
              "Female Software engineer           001-095-524-2112x257  \n",
              "       Barrister                       001-865-478-5157  \n",
              "Male   Police officer                995-542-3004x76800  \n",
              "Female Broadcast journalist        001-273-685-6932x092  \n",
              "Male   IT sales professional        (341)594-6554x44657  \n",
              "\n",
              "[96 rows x 3 columns]"
            ]
          },
          "execution_count": 49,
          "metadata": {},
          "output_type": "execute_result"
        }
      ],
      "source": [
        "data\n"
      ]
    },
    {
      "cell_type": "code",
      "execution_count": null,
      "id": "da12210d-ec15-4700-84a4-693aabad004c",
      "metadata": {
        "id": "da12210d-ec15-4700-84a4-693aabad004c"
      },
      "outputs": [],
      "source": [
        "data.to_csv('NewPeople.csv')"
      ]
    },
    {
      "cell_type": "markdown",
      "id": "0d16a8eb-51aa-4e00-a4a0-528a26109730",
      "metadata": {
        "id": "0d16a8eb-51aa-4e00-a4a0-528a26109730"
      },
      "source": [
        "### Q.7: Import excel sheet ‘SampleWork.xlsx’ in the given folder. Keep in mind the following instructions:\n",
        "Import sheet 1\n",
        "Import only first and last column from sheet 1\n",
        "Skip row 2 while importing the sheet\n",
        "Set row 2 as header\n",
        "export as new sheet."
      ]
    },
    {
      "cell_type": "code",
      "execution_count": null,
      "id": "de071b16-c41d-4387-9ce0-36e2373f6f20",
      "metadata": {
        "id": "de071b16-c41d-4387-9ce0-36e2373f6f20",
        "outputId": "485556ae-397f-4edb-f604-7ed83cae0474"
      },
      "outputs": [
        {
          "data": {
            "text/html": [
              "<div>\n",
              "<style scoped>\n",
              "    .dataframe tbody tr th:only-of-type {\n",
              "        vertical-align: middle;\n",
              "    }\n",
              "\n",
              "    .dataframe tbody tr th {\n",
              "        vertical-align: top;\n",
              "    }\n",
              "\n",
              "    .dataframe thead th {\n",
              "        text-align: right;\n",
              "    }\n",
              "</style>\n",
              "<table border=\"1\" class=\"dataframe\">\n",
              "  <thead>\n",
              "    <tr style=\"text-align: right;\">\n",
              "      <th></th>\n",
              "      <th>Name</th>\n",
              "      <th>Age</th>\n",
              "      <th>Stream</th>\n",
              "      <th>Percentage</th>\n",
              "    </tr>\n",
              "  </thead>\n",
              "  <tbody>\n",
              "    <tr>\n",
              "      <th>0</th>\n",
              "      <td>Amir</td>\n",
              "      <td>18</td>\n",
              "      <td>Math</td>\n",
              "      <td>95</td>\n",
              "    </tr>\n",
              "    <tr>\n",
              "      <th>1</th>\n",
              "      <td>Bilal</td>\n",
              "      <td>19</td>\n",
              "      <td>Science</td>\n",
              "      <td>90</td>\n",
              "    </tr>\n",
              "    <tr>\n",
              "      <th>2</th>\n",
              "      <td>Sufyan</td>\n",
              "      <td>20</td>\n",
              "      <td>Comerce</td>\n",
              "      <td>85</td>\n",
              "    </tr>\n",
              "    <tr>\n",
              "      <th>3</th>\n",
              "      <td>Saiqa</td>\n",
              "      <td>18</td>\n",
              "      <td>Math</td>\n",
              "      <td>80</td>\n",
              "    </tr>\n",
              "    <tr>\n",
              "      <th>4</th>\n",
              "      <td>Aimen</td>\n",
              "      <td>32</td>\n",
              "      <td>Science</td>\n",
              "      <td>75</td>\n",
              "    </tr>\n",
              "  </tbody>\n",
              "</table>\n",
              "</div>"
            ],
            "text/plain": [
              "     Name  Age   Stream  Percentage\n",
              "0    Amir   18     Math          95\n",
              "1   Bilal   19  Science          90\n",
              "2  Sufyan   20  Comerce          85\n",
              "3   Saiqa   18     Math          80\n",
              "4   Aimen   32  Science          75"
            ]
          },
          "execution_count": 76,
          "metadata": {},
          "output_type": "execute_result"
        }
      ],
      "source": [
        "d = pd.read_excel('SampleWork.xlsx')\n",
        "d"
      ]
    },
    {
      "cell_type": "code",
      "execution_count": null,
      "id": "ff13c248-15b5-412e-b7a3-24f55e48397d",
      "metadata": {
        "id": "ff13c248-15b5-412e-b7a3-24f55e48397d",
        "outputId": "6931cbda-fd68-464e-f92b-ef3a0dc567f0"
      },
      "outputs": [
        {
          "data": {
            "text/html": [
              "<div>\n",
              "<style scoped>\n",
              "    .dataframe tbody tr th:only-of-type {\n",
              "        vertical-align: middle;\n",
              "    }\n",
              "\n",
              "    .dataframe tbody tr th {\n",
              "        vertical-align: top;\n",
              "    }\n",
              "\n",
              "    .dataframe thead th {\n",
              "        text-align: right;\n",
              "    }\n",
              "</style>\n",
              "<table border=\"1\" class=\"dataframe\">\n",
              "  <thead>\n",
              "    <tr style=\"text-align: right;\">\n",
              "      <th></th>\n",
              "      <th>Amir</th>\n",
              "      <th>95</th>\n",
              "    </tr>\n",
              "  </thead>\n",
              "  <tbody>\n",
              "    <tr>\n",
              "      <th>0</th>\n",
              "      <td>Sufyan</td>\n",
              "      <td>85</td>\n",
              "    </tr>\n",
              "    <tr>\n",
              "      <th>1</th>\n",
              "      <td>Saiqa</td>\n",
              "      <td>80</td>\n",
              "    </tr>\n",
              "    <tr>\n",
              "      <th>2</th>\n",
              "      <td>Aimen</td>\n",
              "      <td>75</td>\n",
              "    </tr>\n",
              "  </tbody>\n",
              "</table>\n",
              "</div>"
            ],
            "text/plain": [
              "     Amir  95\n",
              "0  Sufyan  85\n",
              "1   Saiqa  80\n",
              "2   Aimen  75"
            ]
          },
          "execution_count": 85,
          "metadata": {},
          "output_type": "execute_result"
        }
      ],
      "source": [
        "sample_data = pd.read_excel('SampleWork.xlsx',sheet_name='Sheet1',usecols=[0,3],skiprows=[2],header=1)\n",
        "sample_data"
      ]
    },
    {
      "cell_type": "markdown",
      "id": "369b591d-3415-4697-b82b-13186592f954",
      "metadata": {
        "id": "369b591d-3415-4697-b82b-13186592f954"
      },
      "source": [
        "### Q.8: Create the following dataframe as AICP_DF then implement different operations as described below:\n",
        "select 'Name', 'Qualification' coloumns and save to df1\n",
        "add a new column to AICP_DF “Height” with the following values: [5.1, 6.2, 5.1, 5.2,5.1]\n",
        "set column “Name” as the index column.\n",
        "retrieve row with index “Hifza”\n",
        "retrieve row with index 3\n",
        "drop row with index “Bilal"
      ]
    },
    {
      "cell_type": "code",
      "execution_count": null,
      "id": "531ca5a4-80c8-4f39-a953-7c01986f51d8",
      "metadata": {
        "id": "531ca5a4-80c8-4f39-a953-7c01986f51d8"
      },
      "outputs": [],
      "source": [
        "AICP_DF = {'Name': ['Sonia', 'Bilal', 'Hifza', 'Kabir', 'Jazim'],\n",
        "        'Age': [27,24,22,32,23],\n",
        "        'Address': ['Lahore','Karachi','Sialkot','Peshawr','lhr'],\n",
        "        'Qualification': ['Msc', 'MA', 'MCA', 'Phd', 'Bsc'],}"
      ]
    },
    {
      "cell_type": "code",
      "execution_count": null,
      "id": "18931e0e-2e96-49a3-855b-21cb25e5bbef",
      "metadata": {
        "id": "18931e0e-2e96-49a3-855b-21cb25e5bbef"
      },
      "outputs": [],
      "source": [
        "df = pd.DataFrame(AICP_DF)"
      ]
    },
    {
      "cell_type": "code",
      "execution_count": null,
      "id": "f9f79684-67d8-4f09-8300-4222f4f2211c",
      "metadata": {
        "id": "f9f79684-67d8-4f09-8300-4222f4f2211c"
      },
      "outputs": [],
      "source": [
        "df1 = df[['Name','Qualification']]"
      ]
    },
    {
      "cell_type": "code",
      "execution_count": null,
      "id": "5d5e0cf5-c471-4df2-a3d9-281739573b8f",
      "metadata": {
        "id": "5d5e0cf5-c471-4df2-a3d9-281739573b8f",
        "outputId": "f96a8a6f-2b4c-4867-fb3a-00216dcfcba0"
      },
      "outputs": [
        {
          "data": {
            "text/html": [
              "<div>\n",
              "<style scoped>\n",
              "    .dataframe tbody tr th:only-of-type {\n",
              "        vertical-align: middle;\n",
              "    }\n",
              "\n",
              "    .dataframe tbody tr th {\n",
              "        vertical-align: top;\n",
              "    }\n",
              "\n",
              "    .dataframe thead th {\n",
              "        text-align: right;\n",
              "    }\n",
              "</style>\n",
              "<table border=\"1\" class=\"dataframe\">\n",
              "  <thead>\n",
              "    <tr style=\"text-align: right;\">\n",
              "      <th></th>\n",
              "      <th>Name</th>\n",
              "      <th>Qualification</th>\n",
              "    </tr>\n",
              "  </thead>\n",
              "  <tbody>\n",
              "    <tr>\n",
              "      <th>0</th>\n",
              "      <td>Sonia</td>\n",
              "      <td>Msc</td>\n",
              "    </tr>\n",
              "    <tr>\n",
              "      <th>1</th>\n",
              "      <td>Bilal</td>\n",
              "      <td>MA</td>\n",
              "    </tr>\n",
              "    <tr>\n",
              "      <th>2</th>\n",
              "      <td>Hifza</td>\n",
              "      <td>MCA</td>\n",
              "    </tr>\n",
              "    <tr>\n",
              "      <th>3</th>\n",
              "      <td>Kabir</td>\n",
              "      <td>Phd</td>\n",
              "    </tr>\n",
              "    <tr>\n",
              "      <th>4</th>\n",
              "      <td>Jazim</td>\n",
              "      <td>Bsc</td>\n",
              "    </tr>\n",
              "  </tbody>\n",
              "</table>\n",
              "</div>"
            ],
            "text/plain": [
              "    Name Qualification\n",
              "0  Sonia           Msc\n",
              "1  Bilal            MA\n",
              "2  Hifza           MCA\n",
              "3  Kabir           Phd\n",
              "4  Jazim           Bsc"
            ]
          },
          "execution_count": 104,
          "metadata": {},
          "output_type": "execute_result"
        }
      ],
      "source": [
        "df1\n"
      ]
    },
    {
      "cell_type": "code",
      "execution_count": null,
      "id": "487a7470-b1aa-40d8-a13a-97be7d71c37f",
      "metadata": {
        "id": "487a7470-b1aa-40d8-a13a-97be7d71c37f"
      },
      "outputs": [],
      "source": [
        "df['Height']= [5.1, 6.2, 5.1, 5.2,5.1]"
      ]
    },
    {
      "cell_type": "code",
      "execution_count": null,
      "id": "2c96230a-fb9b-42a3-9fa8-bbbebaa095bb",
      "metadata": {
        "id": "2c96230a-fb9b-42a3-9fa8-bbbebaa095bb"
      },
      "outputs": [],
      "source": [
        "df.set_index('Name',inplace =True)"
      ]
    },
    {
      "cell_type": "code",
      "execution_count": null,
      "id": "4158a6ec-1bbf-4776-aafc-c4e7591c4eb3",
      "metadata": {
        "id": "4158a6ec-1bbf-4776-aafc-c4e7591c4eb3",
        "outputId": "bc634439-79be-4191-8c4b-4071dde9eda8"
      },
      "outputs": [
        {
          "data": {
            "text/plain": [
              "Age                   22\n",
              "Address          Sialkot\n",
              "Qualification        MCA\n",
              "Height               5.1\n",
              "Name: Hifza, dtype: object"
            ]
          },
          "execution_count": 127,
          "metadata": {},
          "output_type": "execute_result"
        }
      ],
      "source": [
        "df.loc['Hifza']"
      ]
    },
    {
      "cell_type": "code",
      "execution_count": null,
      "id": "67694dd3-5e3b-422d-9356-4b6e9a1e25b1",
      "metadata": {
        "id": "67694dd3-5e3b-422d-9356-4b6e9a1e25b1",
        "outputId": "c01e3110-50d3-48b7-db29-a19a1a57fdb0"
      },
      "outputs": [
        {
          "data": {
            "text/plain": [
              "Age                   32\n",
              "Address          Peshawr\n",
              "Qualification        Phd\n",
              "Height               5.2\n",
              "Name: Kabir, dtype: object"
            ]
          },
          "execution_count": 128,
          "metadata": {},
          "output_type": "execute_result"
        }
      ],
      "source": [
        "df.iloc[3]\n"
      ]
    },
    {
      "cell_type": "code",
      "execution_count": null,
      "id": "c7a4cf0e-a936-43d7-9f26-02f1c384af44",
      "metadata": {
        "id": "c7a4cf0e-a936-43d7-9f26-02f1c384af44"
      },
      "outputs": [],
      "source": [
        "df.drop('Bilal',axis=0,inplace=True)"
      ]
    },
    {
      "cell_type": "code",
      "execution_count": null,
      "id": "2f7cc1ab-d58a-4517-9538-a987cfe37cfa",
      "metadata": {
        "id": "2f7cc1ab-d58a-4517-9538-a987cfe37cfa",
        "outputId": "e64274c1-b1d6-4aa7-e58e-ad40b0bb0a9e"
      },
      "outputs": [
        {
          "data": {
            "text/html": [
              "<div>\n",
              "<style scoped>\n",
              "    .dataframe tbody tr th:only-of-type {\n",
              "        vertical-align: middle;\n",
              "    }\n",
              "\n",
              "    .dataframe tbody tr th {\n",
              "        vertical-align: top;\n",
              "    }\n",
              "\n",
              "    .dataframe thead th {\n",
              "        text-align: right;\n",
              "    }\n",
              "</style>\n",
              "<table border=\"1\" class=\"dataframe\">\n",
              "  <thead>\n",
              "    <tr style=\"text-align: right;\">\n",
              "      <th></th>\n",
              "      <th>Age</th>\n",
              "      <th>Address</th>\n",
              "      <th>Qualification</th>\n",
              "      <th>Height</th>\n",
              "    </tr>\n",
              "    <tr>\n",
              "      <th>Name</th>\n",
              "      <th></th>\n",
              "      <th></th>\n",
              "      <th></th>\n",
              "      <th></th>\n",
              "    </tr>\n",
              "  </thead>\n",
              "  <tbody>\n",
              "    <tr>\n",
              "      <th>Sonia</th>\n",
              "      <td>27</td>\n",
              "      <td>Lahore</td>\n",
              "      <td>Msc</td>\n",
              "      <td>5.1</td>\n",
              "    </tr>\n",
              "    <tr>\n",
              "      <th>Hifza</th>\n",
              "      <td>22</td>\n",
              "      <td>Sialkot</td>\n",
              "      <td>MCA</td>\n",
              "      <td>5.1</td>\n",
              "    </tr>\n",
              "    <tr>\n",
              "      <th>Kabir</th>\n",
              "      <td>32</td>\n",
              "      <td>Peshawr</td>\n",
              "      <td>Phd</td>\n",
              "      <td>5.2</td>\n",
              "    </tr>\n",
              "    <tr>\n",
              "      <th>Jazim</th>\n",
              "      <td>23</td>\n",
              "      <td>lhr</td>\n",
              "      <td>Bsc</td>\n",
              "      <td>5.1</td>\n",
              "    </tr>\n",
              "  </tbody>\n",
              "</table>\n",
              "</div>"
            ],
            "text/plain": [
              "       Age  Address Qualification  Height\n",
              "Name                                     \n",
              "Sonia   27   Lahore           Msc     5.1\n",
              "Hifza   22  Sialkot           MCA     5.1\n",
              "Kabir   32  Peshawr           Phd     5.2\n",
              "Jazim   23      lhr           Bsc     5.1"
            ]
          },
          "execution_count": 130,
          "metadata": {},
          "output_type": "execute_result"
        }
      ],
      "source": [
        "df"
      ]
    }
  ],
  "metadata": {
    "kernelspec": {
      "display_name": "Python 3 (ipykernel)",
      "language": "python",
      "name": "python3"
    },
    "language_info": {
      "codemirror_mode": {
        "name": "ipython",
        "version": 3
      },
      "file_extension": ".py",
      "mimetype": "text/x-python",
      "name": "python",
      "nbconvert_exporter": "python",
      "pygments_lexer": "ipython3",
      "version": "3.12.1"
    },
    "colab": {
      "provenance": [],
      "include_colab_link": true
    }
  },
  "nbformat": 4,
  "nbformat_minor": 5
}